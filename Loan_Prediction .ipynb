{
 "cells": [
  {
   "cell_type": "markdown",
   "metadata": {
    "id": "wguAocJpdM3F"
   },
   "source": [
    "# **EDA - Loan Dataset**"
   ]
  },
  {
   "cell_type": "markdown",
   "metadata": {
    "id": "mb_CMHlE5CPR"
   },
   "source": [
    "# **Madhu Patil**"
   ]
  },
  {
   "cell_type": "markdown",
   "metadata": {},
   "source": [
    "## Statsly Analytics"
   ]
  },
  {
   "cell_type": "code",
   "execution_count": null,
   "metadata": {
    "id": "AQcgIoTAleFP"
   },
   "outputs": [],
   "source": [
    "import numpy as np\n",
    "import pandas as pd\n",
    "import matplotlib.pyplot as plt\n",
    "import seaborn as sns\n",
    "\n",
    "import warnings\n",
    "warnings.filterwarnings('ignore')"
   ]
  },
  {
   "cell_type": "markdown",
   "metadata": {
    "id": "jJUR4L6ETZJ4"
   },
   "source": [
    "# Import Dataset"
   ]
  },
  {
   "cell_type": "code",
   "execution_count": null,
   "metadata": {
    "colab": {
     "base_uri": "https://localhost:8080/",
     "height": 706
    },
    "id": "lY8Qx87vmto5",
    "outputId": "cf8acf06-1046-4d96-97fc-070e28b2b82c"
   },
   "outputs": [],
   "source": [
    "df1=pd.read_excel('loan.xlsx')\n",
    "df1.head()"
   ]
  },
  {
   "cell_type": "code",
   "execution_count": null,
   "metadata": {
    "colab": {
     "base_uri": "https://localhost:8080/"
    },
    "id": "-pD7JHHEm0zf",
    "outputId": "15cc70d9-2edf-4d6b-e615-6bbb9c06f23d"
   },
   "outputs": [],
   "source": [
    "#column names\n",
    "df1.columns.values "
   ]
  },
  {
   "cell_type": "code",
   "execution_count": null,
   "metadata": {
    "colab": {
     "base_uri": "https://localhost:8080/"
    },
    "id": "FSwFILyZnhpF",
    "outputId": "c1df72e8-7d6b-4d53-cbf0-f39e280d9295"
   },
   "outputs": [],
   "source": [
    "df1.shape"
   ]
  },
  {
   "cell_type": "markdown",
   "metadata": {
    "id": "jDupMOl-Tjwg"
   },
   "source": [
    "There are 39717 rows and 111 columns"
   ]
  },
  {
   "cell_type": "code",
   "execution_count": null,
   "metadata": {
    "colab": {
     "base_uri": "https://localhost:8080/"
    },
    "id": "lAOAtQFOnhs1",
    "outputId": "307cea84-7022-4461-a0b1-4113cea95a47"
   },
   "outputs": [],
   "source": [
    "df1.info(111)"
   ]
  },
  {
   "cell_type": "markdown",
   "metadata": {
    "id": "nZ3BfIeJTbiN"
   },
   "source": [
    "# Handling Null Values"
   ]
  },
  {
   "cell_type": "code",
   "execution_count": null,
   "metadata": {
    "colab": {
     "base_uri": "https://localhost:8080/"
    },
    "id": "wswhJt1VnhwC",
    "outputId": "605c3bac-b248-4f5f-8167-9d4b2664a596"
   },
   "outputs": [],
   "source": [
    "df1.isna().sum().head(56)"
   ]
  },
  {
   "cell_type": "code",
   "execution_count": null,
   "metadata": {
    "colab": {
     "base_uri": "https://localhost:8080/"
    },
    "id": "i94rNCR2nhy-",
    "outputId": "2f3acf26-edc6-4453-8292-713b0434fbd2"
   },
   "outputs": [],
   "source": [
    "df1.isna().sum().tail(56)"
   ]
  },
  {
   "cell_type": "code",
   "execution_count": null,
   "metadata": {
    "colab": {
     "base_uri": "https://localhost:8080/",
     "height": 469
    },
    "id": "T0xC7JAhpkUA",
    "outputId": "9dea05fe-222d-4f29-ca6e-daf838d031ee"
   },
   "outputs": [],
   "source": [
    "plt.figure(figsize=(15,5))\n",
    "sns.heatmap(df1.isnull().head(56),yticklabels=False,cbar=False, cmap='Blues')\n",
    "plt.grid(True)\n",
    "plt.show()"
   ]
  },
  {
   "cell_type": "markdown",
   "metadata": {
    "id": "USPOXenuUZh5"
   },
   "source": [
    "From above plot we can see that there are some null values in the dataset. "
   ]
  },
  {
   "cell_type": "code",
   "execution_count": null,
   "metadata": {
    "colab": {
     "base_uri": "https://localhost:8080/"
    },
    "id": "DLZU44Tenh11",
    "outputId": "1f6c9e92-77b1-47f3-83cc-fb5a358d9e28"
   },
   "outputs": [],
   "source": [
    "df1.isna().mean().head(56).round(4)*100  #Converting null values into percentage. "
   ]
  },
  {
   "cell_type": "code",
   "execution_count": null,
   "metadata": {
    "colab": {
     "base_uri": "https://localhost:8080/"
    },
    "id": "jIfdTQh4nh4W",
    "outputId": "dc603869-ff13-49ea-9c9c-bfea50e6d748"
   },
   "outputs": [],
   "source": [
    "df1.isna().mean().tail(56).round(4)*100"
   ]
  },
  {
   "cell_type": "code",
   "execution_count": null,
   "metadata": {
    "id": "RABUV9Bznh7V"
   },
   "outputs": [],
   "source": [
    "df1.drop(['mths_since_last_record','mths_since_last_major_derog','annual_inc_joint','dti_joint','open_il_12m','open_il_24m','mths_since_rcnt_il',\n",
    "        'total_bal_il','il_util','open_rv_12m','open_rv_24m','max_bal_bc','all_util','total_rev_hi_lim','inq_fi','total_cu_tl','inq_fi','total_cu_tl',\n",
    "        'inq_last_12m','acc_open_past_24mths','avg_cur_bal', 'bc_open_to_buy', 'bc_util', 'mo_sin_old_il_acct','mo_sin_old_rev_tl_op', 'mo_sin_rcnt_rev_tl_op', 'mo_sin_rcnt_tl',\n",
    "       'mort_acc', 'mths_since_recent_bc', 'mths_since_recent_bc_dlq','mths_since_recent_inq', 'mths_since_recent_revol_delinq',\n",
    "       'num_accts_ever_120_pd', 'num_actv_bc_tl', 'num_actv_rev_tl','num_bc_sats', 'num_bc_tl', 'num_il_tl', 'num_op_rev_tl',\n",
    "       'num_rev_accts', 'num_rev_tl_bal_gt_0', 'num_sats','num_tl_120dpd_2m', 'num_tl_30dpd', 'num_tl_90g_dpd_24m',\n",
    "       'num_tl_op_past_12m', 'pct_tl_nvr_dlq', 'percent_bc_gt_75','next_pymnt_d','tot_hi_cred_lim',\n",
    "       'total_bal_ex_mort', 'total_bc_limit','total_il_high_credit_limit','verification_status_joint','tot_coll_amt','tot_cur_bal',\n",
    "       'open_acc_6m','open_il_6m'],axis=1, inplace=True)"
   ]
  },
  {
   "cell_type": "code",
   "execution_count": null,
   "metadata": {
    "colab": {
     "base_uri": "https://localhost:8080/",
     "height": 455
    },
    "id": "JU4tr1g3rK-z",
    "outputId": "0c85e88b-603c-4f65-d5c4-963625aecf77"
   },
   "outputs": [],
   "source": [
    "plt.figure(figsize=(15,5))\n",
    "sns.heatmap(df1.isnull().head(56),yticklabels=False,cbar=False, cmap='Blues')\n",
    "plt.grid(True)\n",
    "plt.show()"
   ]
  },
  {
   "cell_type": "markdown",
   "metadata": {
    "id": "4vIVZtmvgT_I"
   },
   "source": [
    "From the above graph we can see there are still some of the null values present"
   ]
  },
  {
   "cell_type": "code",
   "execution_count": null,
   "metadata": {
    "colab": {
     "base_uri": "https://localhost:8080/"
    },
    "id": "5Gk1gBrBrFy7",
    "outputId": "bfaf6193-747e-433b-ce94-2a5b1302ce6d"
   },
   "outputs": [],
   "source": [
    "df1.isna().mean().head(57).round(4)*100"
   ]
  },
  {
   "cell_type": "code",
   "execution_count": null,
   "metadata": {
    "id": "r-lRO6stG52T"
   },
   "outputs": [],
   "source": [
    "mean=df1['mths_since_last_delinq'].mean()"
   ]
  },
  {
   "cell_type": "code",
   "execution_count": null,
   "metadata": {
    "id": "EaYclPQ9I7Cu"
   },
   "outputs": [],
   "source": [
    "df1['mths_since_last_delinq'].fillna(mean,inplace=True)"
   ]
  },
  {
   "cell_type": "code",
   "execution_count": null,
   "metadata": {
    "id": "RNSkq3F5JQBP"
   },
   "outputs": [],
   "source": [
    "df1.dropna(inplace=True)"
   ]
  },
  {
   "cell_type": "code",
   "execution_count": null,
   "metadata": {
    "colab": {
     "base_uri": "https://localhost:8080/"
    },
    "id": "kYCyxF4XJB9b",
    "outputId": "e8f90b72-80a6-4174-bc35-2a8e97ed2d29"
   },
   "outputs": [],
   "source": [
    "df1.isna().mean().head(57).round(4)*100"
   ]
  },
  {
   "cell_type": "code",
   "execution_count": null,
   "metadata": {
    "colab": {
     "base_uri": "https://localhost:8080/",
     "height": 455
    },
    "id": "NcWCr2QmJIQu",
    "outputId": "ac77cc8a-c12a-4b5b-dd45-e9cdfc8204b7"
   },
   "outputs": [],
   "source": [
    "plt.figure(figsize=(15,5))\n",
    "sns.heatmap(df1.isnull().head(56),yticklabels=False,cbar=False, cmap='Blues')\n",
    "plt.grid(True)\n",
    "plt.show()"
   ]
  },
  {
   "cell_type": "markdown",
   "metadata": {
    "id": "0U4S1J73VIjq"
   },
   "source": [
    "Now there are no null values present in the dataset. "
   ]
  },
  {
   "cell_type": "markdown",
   "metadata": {
    "id": "zTJR7ogjUgQx"
   },
   "source": [
    "## Dropping Unwanted Columns"
   ]
  },
  {
   "cell_type": "code",
   "execution_count": null,
   "metadata": {
    "id": "9ZSue3no622m"
   },
   "outputs": [],
   "source": [
    "# Removing unwanted columns\n",
    "df1.drop(['id','member_id','url','desc','pymnt_plan','initial_list_status','collections_12_mths_ex_med','policy_code','acc_now_delinq','chargeoff_within_12_mths','delinq_amnt','tax_liens'], axis=1, inplace=True)"
   ]
  },
  {
   "cell_type": "code",
   "execution_count": null,
   "metadata": {
    "colab": {
     "base_uri": "https://localhost:8080/",
     "height": 184
    },
    "id": "fuX0f77EVL6B",
    "outputId": "4cecb4eb-a690-4bc5-98a5-5ef53802aacf"
   },
   "outputs": [],
   "source": [
    "df1.head(2)"
   ]
  },
  {
   "cell_type": "code",
   "execution_count": null,
   "metadata": {
    "colab": {
     "base_uri": "https://localhost:8080/"
    },
    "id": "ACccxEL7Hp_5",
    "outputId": "1ee99a5f-152a-41f3-f6f0-dbc56756b867"
   },
   "outputs": [],
   "source": [
    "df1.shape"
   ]
  },
  {
   "cell_type": "markdown",
   "metadata": {
    "id": "G8uWdDHQUvck"
   },
   "source": [
    "## Checking for Duplicates"
   ]
  },
  {
   "cell_type": "code",
   "execution_count": null,
   "metadata": {
    "colab": {
     "base_uri": "https://localhost:8080/"
    },
    "id": "AfIcZPaiUzlF",
    "outputId": "50f623e4-1450-484a-dce3-5b34c049ff3d"
   },
   "outputs": [],
   "source": [
    "df1.duplicated().sum()"
   ]
  },
  {
   "cell_type": "markdown",
   "metadata": {
    "id": "ekS1EvPXVeo4"
   },
   "source": [
    "There are no duplicate values present in the dataset"
   ]
  },
  {
   "cell_type": "markdown",
   "metadata": {
    "id": "T8okPGspKVfU"
   },
   "source": [
    "## EDA"
   ]
  },
  {
   "cell_type": "code",
   "execution_count": null,
   "metadata": {
    "colab": {
     "base_uri": "https://localhost:8080/"
    },
    "id": "o2rXr3W5LwnE",
    "outputId": "88c6c409-16ce-422d-8138-0ff6c998ba91"
   },
   "outputs": [],
   "source": [
    "from autoviz.AutoViz_Class import AutoViz_Class\n",
    "\n",
    "AV = AutoViz_Class()"
   ]
  },
  {
   "cell_type": "code",
   "execution_count": null,
   "metadata": {
    "colab": {
     "base_uri": "https://localhost:8080/",
     "height": 1000
    },
    "id": "-D05mcs2LzMb",
    "outputId": "5de0f117-9119-4ad9-bfe5-51d0cadfb106"
   },
   "outputs": [],
   "source": [
    "df = AV.AutoViz('loan.xlsx')"
   ]
  },
  {
   "cell_type": "markdown",
   "metadata": {
    "id": "mYfT_GFWXlwL"
   },
   "source": [
    "# Univeriate Analysis"
   ]
  },
  {
   "cell_type": "code",
   "execution_count": null,
   "metadata": {
    "colab": {
     "base_uri": "https://localhost:8080/",
     "height": 1000
    },
    "id": "4p0shkWHFZEz",
    "outputId": "675db927-9b0d-43cc-c3a7-418cedb8b9fe"
   },
   "outputs": [],
   "source": [
    "df1.hist(figsize=(20,20))\n",
    "plt.show()"
   ]
  },
  {
   "cell_type": "code",
   "execution_count": null,
   "metadata": {
    "colab": {
     "base_uri": "https://localhost:8080/",
     "height": 623
    },
    "id": "6szj--6UZszu",
    "outputId": "10825969-6bc8-494c-88df-4f701c37c6d7"
   },
   "outputs": [],
   "source": [
    "fig, axs = plt.subplots(ncols=2,nrows=2,figsize=(15,10))\n",
    "df1['emp_title'].value_counts().nlargest(5).plot(kind='bar', ax=axs[0][0])\n",
    "sns.countplot(df1['verification_status'], ax = axs[0][1], palette=\"vlag\")\n",
    "sns.countplot(df1['home_ownership'], ax = axs[1][0], palette=\"rocket\")\n",
    "sns.countplot(df1['term'], ax = axs[1][1], palette=\"deep\")"
   ]
  },
  {
   "cell_type": "markdown",
   "metadata": {
    "id": "KIeokP8tW-ux"
   },
   "source": [
    "* Maximum Loan was taken by the US Army, where as UPS took the least loan.\n",
    "* Not verified count is more than the source verified\n",
    "* In Home ownership, maximum was rented home while very less had their own home.\n",
    "* The term was maximum of 36 months. "
   ]
  },
  {
   "cell_type": "code",
   "execution_count": null,
   "metadata": {
    "colab": {
     "base_uri": "https://localhost:8080/",
     "height": 319
    },
    "id": "0QEMhtwYZgEm",
    "outputId": "b7d3a93c-f683-4a30-a04b-764ebf09b7ab"
   },
   "outputs": [],
   "source": [
    "plt.figure(figsize=(5,5))\n",
    "df1['loan_status'].value_counts().nlargest(4).plot(kind='pie',explode=(0,0,0.1),autopct=(\"%1.2f%%\"))\n",
    "plt.title(\"Loan Status\")\n",
    "plt.show()"
   ]
  },
  {
   "cell_type": "markdown",
   "metadata": {
    "id": "otdMbmR9pzkx"
   },
   "source": [
    "Loan status has maximum of Fully Paid while there is very less number with currently on going"
   ]
  },
  {
   "cell_type": "code",
   "execution_count": null,
   "metadata": {
    "colab": {
     "base_uri": "https://localhost:8080/",
     "height": 1000
    },
    "id": "C5cspvLA0eis",
    "outputId": "4f034ad7-0c0f-483a-d2e0-66648a6b7f79"
   },
   "outputs": [],
   "source": [
    "fig, axs = plt.subplots(ncols=2,nrows=2,figsize=(20,20))\n",
    "sns.countplot(data=df1 ,y='grade', ax = axs[0][0], palette=\"rocket\")\n",
    "sns.countplot(data=df1 ,y='sub_grade', ax = axs[0][1], palette=\"rocket\")\n",
    "sns.countplot(data=df1, y='emp_length', ax = axs[1][0])\n",
    "sns.countplot(data=df1,y='purpose', ax = axs[1][1], palette=\"deep\")\n"
   ]
  },
  {
   "cell_type": "markdown",
   "metadata": {
    "id": "XuT-B50kXhJW"
   },
   "source": [
    "From the above graph we can conclude that, \n",
    "*   Grade “A” and “B” assign the highest loan.\n",
    "*   Subgrade \"A4\" and \"B4\" assign the highest loan. \n",
    "*   Employeers having 10+ years of employment length are assigned the highest loan.\n",
    "*   Debt Consolidation is most common purpose to take the loan. \n",
    "\n",
    "\n",
    "\n",
    "\n",
    "\n"
   ]
  },
  {
   "cell_type": "markdown",
   "metadata": {
    "id": "6tgBoMM_XvuH"
   },
   "source": [
    "## Biveriate Analysis"
   ]
  },
  {
   "cell_type": "code",
   "execution_count": null,
   "metadata": {
    "colab": {
     "base_uri": "https://localhost:8080/",
     "height": 459
    },
    "id": "4SrmCAVBEQiC",
    "outputId": "ede783ea-d69d-43b3-cfdb-963e36bf5165"
   },
   "outputs": [],
   "source": [
    "sns.jointplot(data=df1,x='loan_amnt', y='funded_amnt')"
   ]
  },
  {
   "cell_type": "markdown",
   "metadata": {
    "id": "ytJrcjNTqVyi"
   },
   "source": [
    "Loan Amount and Funded amount has a Linear correlation"
   ]
  },
  {
   "cell_type": "code",
   "execution_count": null,
   "metadata": {
    "colab": {
     "base_uri": "https://localhost:8080/",
     "height": 387
    },
    "id": "_Eh51k6BFG3c",
    "outputId": "44691489-3f0a-4a6c-8006-3ec3375bf0bb"
   },
   "outputs": [],
   "source": [
    "sns.catplot(data=df1,x='int_rate',y='term')"
   ]
  },
  {
   "cell_type": "markdown",
   "metadata": {
    "id": "p9yMHXe9qkLa"
   },
   "source": [
    "Interest rate was maximum for 60 months."
   ]
  },
  {
   "cell_type": "code",
   "execution_count": null,
   "metadata": {
    "colab": {
     "base_uri": "https://localhost:8080/",
     "height": 515
    },
    "id": "qoE4lFI3aQny",
    "outputId": "3f00caa4-743f-4457-e589-18d1c41a21e6"
   },
   "outputs": [],
   "source": [
    "plt.figure(figsize=(10,8))\n",
    "sns.barplot(data=df1,x='int_rate',y='addr_state')"
   ]
  },
  {
   "cell_type": "markdown",
   "metadata": {
    "id": "ftTaeYgPrBao"
   },
   "source": [
    "State AK has the maximum interest rate where as in sate IA has low interest rate"
   ]
  },
  {
   "cell_type": "code",
   "execution_count": null,
   "metadata": {
    "colab": {
     "base_uri": "https://localhost:8080/",
     "height": 541
    },
    "id": "2OAxsjXcHK05",
    "outputId": "424e8473-c321-4191-c23e-183f4d756258"
   },
   "outputs": [],
   "source": [
    "plt.figure(figsize=(20,8))\n",
    "sns.scatterplot(data=df1,x='addr_state',y=\"loan_status\")\n",
    "plt.xticks(rotation=90)\n",
    "plt.grid()\n",
    "plt.plot()"
   ]
  },
  {
   "cell_type": "markdown",
   "metadata": {
    "id": "7nfFwVQ1rr7A"
   },
   "source": [
    "* State AK and MT has no Current ongoing loan payment\n",
    "* State AI, NE and DT was never charged nor has any current on going loan payment"
   ]
  },
  {
   "cell_type": "code",
   "execution_count": null,
   "metadata": {
    "colab": {
     "base_uri": "https://localhost:8080/",
     "height": 302
    },
    "id": "DGTQp6QyUzYF",
    "outputId": "cf8637eb-9b6c-4ebc-86be-c1be9b89e096"
   },
   "outputs": [],
   "source": [
    "sns.scatterplot(data=df1, x=\"funded_amnt\", y=\"last_pymnt_amnt\")\n",
    "plt.xticks(rotation=90), \n",
    "plt.show()"
   ]
  },
  {
   "cell_type": "markdown",
   "metadata": {
    "id": "aIHjSsBHsSlS"
   },
   "source": [
    "Last Payment Amount and Funded Amount has a linear Correlation. "
   ]
  },
  {
   "cell_type": "code",
   "execution_count": null,
   "metadata": {
    "colab": {
     "base_uri": "https://localhost:8080/",
     "height": 623
    },
    "id": "kQq3YwFuVWQy",
    "outputId": "3fd32f04-6928-4c2e-82fe-a25e97130809"
   },
   "outputs": [],
   "source": [
    "plt.figure(figsize=(15,10))\n",
    "sns.countplot(data=df1, hue=\"loan_status\", y=\"purpose\")"
   ]
  },
  {
   "cell_type": "markdown",
   "metadata": {
    "id": "x39TXVoTtArT"
   },
   "source": [
    "* Loan taken for the purpose of Debt Consolation has maximum of fully paid loan status. \n",
    "* As compared to other purpose debt consolation has maximum charges and currently ongoing loan payment. \n",
    "* There are no current ongoing loan payment for the purpose Education, Renewable Energy, Wedding, Vacation, Moving and Medical."
   ]
  },
  {
   "cell_type": "code",
   "execution_count": null,
   "metadata": {
    "colab": {
     "base_uri": "https://localhost:8080/",
     "height": 515
    },
    "id": "T4BQtO90WSQT",
    "outputId": "54cba95f-a2b0-4fec-efb8-3958ab4f156d"
   },
   "outputs": [],
   "source": [
    "plt.figure(figsize=(18,8))\n",
    "sns.barplot(data=df1, x=\"open_acc\", y=\"funded_amnt\")"
   ]
  },
  {
   "cell_type": "markdown",
   "metadata": {
    "id": "nSyytgrdvHRU"
   },
   "source": [
    "From the above plot we can see that, Amount was funded more who has the maximum number of Open Accounts. "
   ]
  },
  {
   "cell_type": "code",
   "execution_count": null,
   "metadata": {
    "colab": {
     "base_uri": "https://localhost:8080/",
     "height": 515
    },
    "id": "_2y3jF04S0-x",
    "outputId": "6545df74-529e-40d2-c567-224437b356ea"
   },
   "outputs": [],
   "source": [
    "plt.figure(figsize=(18,8))\n",
    "sns.barplot(data=df1, x=\"funded_amnt\", y=\"grade\")"
   ]
  },
  {
   "cell_type": "markdown",
   "metadata": {
    "id": "dJMBlgPAvZWL"
   },
   "source": [
    "From above plot we can conclude that maximum amount was funded to grade G followed by grade F and E. Where as, less than 10000 was funded to grade A"
   ]
  },
  {
   "cell_type": "code",
   "execution_count": null,
   "metadata": {
    "colab": {
     "base_uri": "https://localhost:8080/",
     "height": 357
    },
    "id": "iBBA4xAyzBGj",
    "outputId": "7414ea78-7462-4f2a-982b-38187c533c0c"
   },
   "outputs": [],
   "source": [
    "plt.figure(figsize=(18,5))\n",
    "\n",
    "sns.distplot(df1['funded_amnt'][df1['emp_title']=='US Army'],hist=False,color='red')\n",
    "sns.distplot(df1['funded_amnt'][df1['emp_title']=='Bank of America'],hist=False,color='blue')\n",
    "sns.distplot(df1['funded_amnt'][df1['emp_title']=='IBM'],hist=False,color='yellow')\n",
    "\n",
    "plt.xlabel('Funded Amount', fontsize = 16)\n",
    "plt.title('Plot of Employment Title with Funded Amount  ', fontsize = 16)\n",
    "plt.show()"
   ]
  },
  {
   "cell_type": "markdown",
   "metadata": {
    "id": "VfWO7qtZ3NuR"
   },
   "source": [
    "* Amount Funded to US Army ranges from 0 to 30,000\n",
    "* Amount Funded to Bank of America ranges from 0 to 20,000\n",
    "* Amount Funded to IBM ranges from 0 to less than 20,000"
   ]
  },
  {
   "cell_type": "code",
   "execution_count": null,
   "metadata": {
    "colab": {
     "base_uri": "https://localhost:8080/",
     "height": 488
    },
    "id": "Y1R4-4Z1wN2c",
    "outputId": "0b21a9d2-900d-4106-ed10-d97c91d1a234"
   },
   "outputs": [],
   "source": [
    "figure = plt.figure(figsize=(20,8))\n",
    "sns.lineplot(x=\"annual_inc\",y=\"funded_amnt\",data=df1)\n",
    "plt.show()"
   ]
  },
  {
   "cell_type": "markdown",
   "metadata": {
    "id": "DEjp0zf65vgb"
   },
   "source": [
    "Annual Income and Funded Amount are linear while there are some outliers in the annual amount"
   ]
  },
  {
   "cell_type": "code",
   "execution_count": null,
   "metadata": {
    "colab": {
     "base_uri": "https://localhost:8080/",
     "height": 297
    },
    "id": "6D6dDYi3195P",
    "outputId": "9a2cf54c-224e-4bcd-b8d1-564a3832743c"
   },
   "outputs": [],
   "source": [
    "sns.regplot(data=df1, x='annual_inc', y='funded_amnt')"
   ]
  },
  {
   "cell_type": "code",
   "execution_count": null,
   "metadata": {
    "colab": {
     "base_uri": "https://localhost:8080/",
     "height": 297
    },
    "id": "h8Gn0hMw2lve",
    "outputId": "dd4da870-a203-422a-8b9f-e103cb423c60"
   },
   "outputs": [],
   "source": [
    "sns.scatterplot(data=df1, x='annual_inc', y='funded_amnt')"
   ]
  },
  {
   "cell_type": "markdown",
   "metadata": {
    "id": "yS6HYrPHYbSf"
   },
   "source": [
    "## Multiveriate Analysis"
   ]
  },
  {
   "cell_type": "code",
   "execution_count": null,
   "metadata": {
    "colab": {
     "base_uri": "https://localhost:8080/",
     "height": 498
    },
    "id": "SgdxG_1Ow0VT",
    "outputId": "297e6c63-9b63-4184-f92b-e75e12b59943"
   },
   "outputs": [],
   "source": [
    "figure = plt.figure(figsize=(15,8))\n",
    "sns.scatterplot(x=\"annual_inc\",y=\"total_pymnt\",hue=\"verification_status\",data=df1)\n",
    "plt.show()"
   ]
  },
  {
   "cell_type": "markdown",
   "metadata": {
    "id": "eAGtuS2p5D_y"
   },
   "source": [
    "Loan Amount having less than 30000 was not verified, where as loan with higher amount ie more than 30,000 was verified"
   ]
  },
  {
   "cell_type": "code",
   "execution_count": null,
   "metadata": {
    "colab": {
     "base_uri": "https://localhost:8080/",
     "height": 498
    },
    "id": "c78JTmFQba2T",
    "outputId": "4958d6a0-a8c6-4aa4-dc3b-8ed4477623be"
   },
   "outputs": [],
   "source": [
    "figure = plt.figure(figsize=(15,8))\n",
    "sns.scatterplot(x=\"funded_amnt_inv\",y=\"total_pymnt\",hue=\"pub_rec_bankruptcies\",data=df1)\n",
    "plt.show()"
   ]
  },
  {
   "cell_type": "markdown",
   "metadata": {
    "id": "Y4ItSdJ4_fPX"
   },
   "source": [
    "From the above graph we can see that people were not much bankrupt, while there are very less bankrupt with 1.0"
   ]
  },
  {
   "cell_type": "code",
   "execution_count": null,
   "metadata": {
    "colab": {
     "base_uri": "https://localhost:8080/",
     "height": 498
    },
    "id": "u-Hw6TJP98N4",
    "outputId": "55f4784c-20c4-4790-89d2-370cfbb52bb8"
   },
   "outputs": [],
   "source": [
    "figure = plt.figure(figsize=(15,8))\n",
    "sns.scatterplot(x=\"funded_amnt_inv\",y=\"total_pymnt\",hue=\"loan_status\",data=df1)\n",
    "plt.show()"
   ]
  },
  {
   "cell_type": "code",
   "execution_count": null,
   "metadata": {
    "colab": {
     "base_uri": "https://localhost:8080/",
     "height": 518
    },
    "id": "Kl21g4Xx1-wM",
    "outputId": "ecd55732-11fb-4cd0-b76c-4592a76f97f0"
   },
   "outputs": [],
   "source": [
    "figure = plt.figure(figsize=(20,8))\n",
    "sns.scatterplot(x=\"annual_inc\",y=\"funded_amnt\",hue=\"home_ownership\",data=df1)\n",
    "plt.show()"
   ]
  },
  {
   "cell_type": "markdown",
   "metadata": {
    "id": "_oLDTqA76-mt"
   },
   "source": [
    "Maximum loan was funded to the Mortgage followed by home ownership with own while very less amount was funded to other."
   ]
  },
  {
   "cell_type": "code",
   "execution_count": null,
   "metadata": {
    "id": "tl9ZVPZd1WaR"
   },
   "outputs": [],
   "source": [
    "# Diving the dataset into Categorical & Numerical data\n",
    "df_cat=df1.select_dtypes(['object'])\n",
    "df_num=df1.select_dtypes(['int64','float64'])"
   ]
  },
  {
   "cell_type": "code",
   "execution_count": null,
   "metadata": {
    "colab": {
     "base_uri": "https://localhost:8080/",
     "height": 184
    },
    "id": "VJ8bU0bUUQBx",
    "outputId": "a6cd464c-0749-42a2-f9e7-f6b020ef9813"
   },
   "outputs": [],
   "source": [
    "df_cat.head(2)"
   ]
  },
  {
   "cell_type": "code",
   "execution_count": null,
   "metadata": {
    "colab": {
     "base_uri": "https://localhost:8080/",
     "height": 132
    },
    "id": "74x8ai8qUP6p",
    "outputId": "bb12e015-ec9b-4736-8f0b-27f07a6b6e8b"
   },
   "outputs": [],
   "source": [
    "df_num.head(2)"
   ]
  },
  {
   "cell_type": "markdown",
   "metadata": {
    "id": "Ddo4Vf_gSxrB"
   },
   "source": [
    "**Checking for Outliers**"
   ]
  },
  {
   "cell_type": "code",
   "execution_count": null,
   "metadata": {
    "colab": {
     "base_uri": "https://localhost:8080/",
     "height": 819
    },
    "id": "5veR63r4KID0",
    "outputId": "5c4d0ba8-75bf-454d-8bb2-b9c11022b711"
   },
   "outputs": [],
   "source": [
    "plt.figure(figsize=(20,12))\n",
    "sns.boxplot(data=df_num)\n",
    "plt.xticks(rotation=90)\n",
    "plt.show()"
   ]
  },
  {
   "cell_type": "markdown",
   "metadata": {
    "id": "sdGRPA9NLgkH"
   },
   "source": [
    "Annual Income has some Outliers."
   ]
  },
  {
   "cell_type": "markdown",
   "metadata": {
    "id": "L7atBDKPVSh5"
   },
   "source": [
    "**Checking for Skewness**"
   ]
  },
  {
   "cell_type": "code",
   "execution_count": null,
   "metadata": {
    "colab": {
     "base_uri": "https://localhost:8080/",
     "height": 1000
    },
    "id": "cF2ZMMMe2hkQ",
    "outputId": "a9b0c068-4a58-49e3-d719-660c1d0ebc61"
   },
   "outputs": [],
   "source": [
    "from scipy.stats import skew\n",
    "for col in df_num:\n",
    "    print(col)\n",
    "    print(skew(df_num[col]))\n",
    "    plt.figure()\n",
    "    sns.distplot(df_num[col])"
   ]
  },
  {
   "cell_type": "markdown",
   "metadata": {
    "id": "YAdh3SMPZLr7"
   },
   "source": [
    "Some of the Features in the dataset are highly skewed"
   ]
  },
  {
   "cell_type": "code",
   "execution_count": null,
   "metadata": {
    "colab": {
     "base_uri": "https://localhost:8080/",
     "height": 829
    },
    "id": "mx594vA_1Wj_",
    "outputId": "254c4c3e-9c88-414c-bea9-bd46b0bb28ea"
   },
   "outputs": [],
   "source": [
    "plt.figure(figsize=(20,12))\n",
    "sns.heatmap(df1.corr(), annot = True)"
   ]
  },
  {
   "cell_type": "markdown",
   "metadata": {
    "id": "dGlb4n0QZu1a"
   },
   "source": [
    "Loan Amount & Funded Amount are highly corelated. "
   ]
  },
  {
   "cell_type": "code",
   "execution_count": null,
   "metadata": {
    "colab": {
     "base_uri": "https://localhost:8080/",
     "height": 615
    },
    "id": "5m3ysIJB1Z--",
    "outputId": "6ee92bdf-b710-4b27-9f0c-b2bf0e5a1d13"
   },
   "outputs": [],
   "source": [
    "df1.corr().style.background_gradient()"
   ]
  },
  {
   "cell_type": "code",
   "execution_count": null,
   "metadata": {
    "colab": {
     "background_save": true,
     "base_uri": "https://localhost:8080/"
    },
    "id": "1tx8I_Sz2cbT",
    "outputId": "7728b41a-d9fd-4f2b-b3e2-a0622a0f5056"
   },
   "outputs": [],
   "source": [
    "sns.pairplot(data=df1)"
   ]
  }
 ],
 "metadata": {
  "colab": {
   "collapsed_sections": [],
   "name": "Loan Prediction.ipynb",
   "provenance": []
  },
  "kernelspec": {
   "display_name": "Python 3",
   "language": "python",
   "name": "python3"
  },
  "language_info": {
   "codemirror_mode": {
    "name": "ipython",
    "version": 3
   },
   "file_extension": ".py",
   "mimetype": "text/x-python",
   "name": "python",
   "nbconvert_exporter": "python",
   "pygments_lexer": "ipython3",
   "version": "3.8.8"
  }
 },
 "nbformat": 4,
 "nbformat_minor": 1
}
